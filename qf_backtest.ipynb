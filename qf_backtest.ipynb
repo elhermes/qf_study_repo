{
 "cells": [
  {
   "cell_type": "code",
   "execution_count": 1,
   "metadata": {},
   "outputs": [],
   "source": [
    "import numpy as np\n",
    "\n",
    "from qf_test_py import MACDandEMA\n",
    "\n",
    "from quantfreedom.enums import *\n",
    "from quantfreedom.helper_funcs import dl_ex_candles\n",
    "from quantfreedom.simulate import run_df_backtest, or_backtest\n",
    "\n",
    "np.set_printoptions(formatter={\"float_kind\": \"{:0.2f}\".format})\n",
    "\n",
    "%load_ext autoreload\n",
    "%autoreload 2"
   ]
  },
  {
   "cell_type": "code",
   "execution_count": 2,
   "metadata": {},
   "outputs": [],
   "source": [
    "candles = dl_ex_candles(\n",
    "      exchange=\"binance_us\",\n",
    "      symbol='BTCUSDT',\n",
    "      timeframe='5m',\n",
    "      candles_to_dl=1000,  \n",
    ") "
   ]
  },
  {
   "cell_type": "code",
   "execution_count": 3,
   "metadata": {},
   "outputs": [],
   "source": [
    "macd_strat = MACDandEMA(\n",
    "    long_short=\"long\",\n",
    "    ema_length = np.arange(100, 401, 100),\n",
    "    fast_length = np.arange(10, 61, 10),\n",
    "    macd_below = np.arange(0, 51, 25),\n",
    "    signal_smoothing = np.arange(5, 16, 5),\n",
    "    slow_length = np.arange(30, 121, 30),\n",
    ")"
   ]
  },
  {
   "cell_type": "code",
   "execution_count": 4,
   "metadata": {},
   "outputs": [],
   "source": [
    "backtest_settings = BacktestSettings()\n",
    "\n",
    "exchange_settings = ExchangeSettings(\n",
    "    asset_tick_step=3,\n",
    "    leverage_mode=1,\n",
    "    leverage_tick_step=2,\n",
    "    limit_fee_pct=0.0005,\n",
    "    market_fee_pct=0.0005,\n",
    "    max_asset_size=100.0,\n",
    "    max_leverage=150.0,\n",
    "    min_asset_size=0.001,\n",
    "    min_leverage=1.0,\n",
    "    mmr_pct=0.004,\n",
    "    position_mode=3,\n",
    "    price_tick_step=1,\n",
    ")"
   ]
  },
  {
   "cell_type": "code",
   "execution_count": 5,
   "metadata": {},
   "outputs": [],
   "source": [
    "static_os = StaticOrderSettings(\n",
    "    increase_position_type=IncreasePositionType.RiskAmountEntrySize,\n",
    "    leverage_strategy_type=LeverageStrategyType.Dynamic,\n",
    "    pg_min_max_sl_bcb=\"min\",\n",
    "    sl_strategy_type=StopLossStrategyType.SLBasedOnCandleBody,\n",
    "    sl_to_be_bool=False,\n",
    "    starting_bar=50,\n",
    "    starting_equity=100.0,\n",
    "    static_leverage=None,\n",
    "    tp_fee_type=\"limit\",\n",
    "    tp_strategy_type=TakeProfitStrategyType.RiskReward,\n",
    "    trail_sl_bool=True,\n",
    "    z_or_e_type=None,\n",
    ")"
   ]
  },
  {
   "cell_type": "code",
   "execution_count": 6,
   "metadata": {},
   "outputs": [],
   "source": [
    "dos_arrays = DynamicOrderSettings(\n",
    "    max_equity_risk_pct=np.array([30]),\n",
    "    max_trades=np.array([0]),\n",
    "    risk_account_pct_size=np.array([10]),\n",
    "    risk_reward=np.array([5]),\n",
    "    sl_based_on_add_pct=np.array([0.1, 0.25]),\n",
    "    sl_based_on_lookback=np.array([20, 50]),\n",
    "    sl_bcb_type=np.array([CandleBodyType.Low]),\n",
    "    sl_to_be_cb_type=np.array([CandleBodyType.Nothing]),\n",
    "    sl_to_be_when_pct=np.array([0]),\n",
    "    trail_sl_bcb_type=np.array([CandleBodyType.Low]),\n",
    "    trail_sl_by_pct=np.array([0.5, 1.0]),\n",
    "    trail_sl_when_pct=np.array([1, 2]),\n",
    ")"
   ]
  },
  {
   "cell_type": "code",
   "execution_count": 7,
   "metadata": {},
   "outputs": [
    {
     "name": "stdout",
     "output_type": "stream",
     "text": [
      "Starting the backtest now ... and also here are some stats for your backtest.\n",
      "\n",
      "Total indicator settings to test: 684\n",
      "Total order settings to test: 16\n",
      "Total combinations of settings to test: 10,944\n",
      "Total candles: 1,000\n",
      "Total candles to test: 10,944,000\n"
     ]
    },
    {
     "ename": "TypeError",
     "evalue": "'NoneType' object is not subscriptable",
     "output_type": "error",
     "traceback": [
      "\u001b[1;31m---------------------------------------------------------------------------\u001b[0m",
      "\u001b[1;31mTypeError\u001b[0m                                 Traceback (most recent call last)",
      "Cell \u001b[1;32mIn[7], line 1\u001b[0m\n\u001b[1;32m----> 1\u001b[0m backtest_results \u001b[38;5;241m=\u001b[39m \u001b[43mrun_df_backtest\u001b[49m\u001b[43m(\u001b[49m\n\u001b[0;32m      2\u001b[0m \u001b[43m    \u001b[49m\u001b[43mbacktest_settings\u001b[49m\u001b[38;5;241;43m=\u001b[39;49m\u001b[43mbacktest_settings\u001b[49m\u001b[43m,\u001b[49m\n\u001b[0;32m      3\u001b[0m \u001b[43m    \u001b[49m\u001b[43mcandles\u001b[49m\u001b[38;5;241;43m=\u001b[39;49m\u001b[43mcandles\u001b[49m\u001b[43m,\u001b[49m\n\u001b[0;32m      4\u001b[0m \u001b[43m    \u001b[49m\u001b[43mdos_arrays\u001b[49m\u001b[38;5;241;43m=\u001b[39;49m\u001b[43mdos_arrays\u001b[49m\u001b[43m,\u001b[49m\n\u001b[0;32m      5\u001b[0m \u001b[43m    \u001b[49m\u001b[43mexchange_settings\u001b[49m\u001b[38;5;241;43m=\u001b[39;49m\u001b[43mexchange_settings\u001b[49m\u001b[43m,\u001b[49m\n\u001b[0;32m      6\u001b[0m \u001b[43m    \u001b[49m\u001b[43mstatic_os\u001b[49m\u001b[38;5;241;43m=\u001b[39;49m\u001b[43mstatic_os\u001b[49m\u001b[43m,\u001b[49m\n\u001b[0;32m      7\u001b[0m \u001b[43m    \u001b[49m\u001b[43mstrategy\u001b[49m\u001b[38;5;241;43m=\u001b[39;49m\u001b[43mmacd_strat\u001b[49m\u001b[43m,\u001b[49m\n\u001b[0;32m      8\u001b[0m \u001b[43m)\u001b[49m\n",
      "File \u001b[1;32mc:\\Users\\Bado\\Desktop\\qf\\lib\\site-packages\\quantfreedom\\simulate.py:164\u001b[0m, in \u001b[0;36mrun_df_backtest\u001b[1;34m(backtest_settings, candles, dos_arrays, exchange_settings, static_os, strategy)\u001b[0m\n\u001b[0;32m    161\u001b[0m     logger\u001b[38;5;241m.\u001b[39mdebug(\u001b[38;5;124m\"\u001b[39m\u001b[38;5;124mNot in a pos so not checking SL Liq or TP\u001b[39m\u001b[38;5;124m\"\u001b[39m)\n\u001b[0;32m    163\u001b[0m logger\u001b[38;5;241m.\u001b[39mdebug(\u001b[38;5;124m\"\u001b[39m\u001b[38;5;124mstrategy evaluate\u001b[39m\u001b[38;5;124m\"\u001b[39m)\n\u001b[1;32m--> 164\u001b[0m \u001b[38;5;28;01mif\u001b[39;00m \u001b[43mstrategy\u001b[49m\u001b[38;5;241;43m.\u001b[39;49m\u001b[43mentries\u001b[49m\u001b[43m[\u001b[49m\u001b[43mbar_index\u001b[49m\u001b[43m]\u001b[49m:\n\u001b[0;32m    165\u001b[0m     strategy\u001b[38;5;241m.\u001b[39mentry_message(bar_index\u001b[38;5;241m=\u001b[39mbar_index)\n\u001b[0;32m    166\u001b[0m     \u001b[38;5;28;01mtry\u001b[39;00m:\n",
      "\u001b[1;31mTypeError\u001b[0m: 'NoneType' object is not subscriptable"
     ]
    }
   ],
   "source": [
    "backtest_results = run_df_backtest(\n",
    "    backtest_settings=backtest_settings,\n",
    "    candles=candles,\n",
    "    dos_arrays=dos_arrays,\n",
    "    exchange_settings=exchange_settings,\n",
    "    static_os=static_os,\n",
    "    strategy=macd_strat,\n",
    ")"
   ]
  }
 ],
 "metadata": {
  "kernelspec": {
   "display_name": "qf",
   "language": "python",
   "name": "python3"
  },
  "language_info": {
   "codemirror_mode": {
    "name": "ipython",
    "version": 3
   },
   "file_extension": ".py",
   "mimetype": "text/x-python",
   "name": "python",
   "nbconvert_exporter": "python",
   "pygments_lexer": "ipython3",
   "version": "3.10.10"
  }
 },
 "nbformat": 4,
 "nbformat_minor": 2
}
