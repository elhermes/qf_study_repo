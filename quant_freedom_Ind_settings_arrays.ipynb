{
 "cells": [
  {
   "cell_type": "code",
   "execution_count": 1,
   "metadata": {},
   "outputs": [],
   "source": [
    "import numpy as np \n",
    "from quantfreedom.helper_funcs import cart_product \n",
    "from typing import NamedTuple"
   ]
  },
  {
   "cell_type": "code",
   "execution_count": 2,
   "metadata": {},
   "outputs": [],
   "source": [
    "class IndicatorSettingsArrays(NamedTuple):\n",
    "    ema_length: np.array\n",
    "    fast_length: np.array\n",
    "    macd_below: np.array\n",
    "    signal_smoothing: np.array\n",
    "    slow_length: np.array\n",
    "    \n",
    "    \n",
    "cart_arrays: np.array = cart_product(\n",
    "    named_tuple=IndicatorSettingsArrays(\n",
    "         ema_length = np.arange(100, 501, 100),\n",
    "        fast_length = np.arange(10, 61, 10),\n",
    "        macd_below = np.arange(0, 51, 25),\n",
    "        signal_smoothing = np.arange(5, 16, 5),\n",
    "        slow_length = np.arange(30, 121, 30),\n",
    "    )\n",
    ")\n",
    "indicator_settings_arrays: IndicatorSettingsArrays = IndicatorSettingsArrays(\n",
    "    ema_length=cart_arrays[0].astype(np.int_),\n",
    "    fast_length=cart_arrays[1].astype(np.int_),\n",
    "    macd_below=cart_arrays[2].astype(np.int_),\n",
    "    signal_smoothing=cart_arrays[3].astype(np.int_),\n",
    "    slow_length=cart_arrays[4].astype(np.int_),   \n",
    ")"
   ]
  },
  {
   "cell_type": "code",
   "execution_count": 3,
   "metadata": {},
   "outputs": [
    {
     "data": {
      "text/plain": [
       "(1080, 5)"
      ]
     },
     "execution_count": 3,
     "metadata": {},
     "output_type": "execute_result"
    }
   ],
   "source": [
    "cart_arrays.T.shape"
   ]
  },
  {
   "cell_type": "code",
   "execution_count": 4,
   "metadata": {},
   "outputs": [
    {
     "data": {
      "text/plain": [
       "array([ True,  True,  True, ..., False,  True,  True])"
      ]
     },
     "execution_count": 4,
     "metadata": {},
     "output_type": "execute_result"
    }
   ],
   "source": [
    "cart_arrays[1] < cart_arrays[4]"
   ]
  },
  {
   "cell_type": "code",
   "execution_count": 5,
   "metadata": {},
   "outputs": [
    {
     "data": {
      "text/plain": [
       "array([[100., 100., 100., ..., 500., 500., 500.],\n",
       "       [ 10.,  10.,  10., ...,  60.,  60.,  60.],\n",
       "       [  0.,   0.,   0., ...,  50.,  50.,  50.],\n",
       "       [  5.,   5.,   5., ...,  10.,  15.,  15.],\n",
       "       [ 30.,  60.,  90., ..., 120.,  90., 120.]])"
      ]
     },
     "execution_count": 5,
     "metadata": {},
     "output_type": "execute_result"
    }
   ],
   "source": [
    "cart_arrays.T[cart_arrays[1] < cart_arrays[4]].T"
   ]
  }
 ],
 "metadata": {
  "kernelspec": {
   "display_name": ".venv",
   "language": "python",
   "name": "python3"
  },
  "language_info": {
   "codemirror_mode": {
    "name": "ipython",
    "version": 3
   },
   "file_extension": ".py",
   "mimetype": "text/x-python",
   "name": "python",
   "nbconvert_exporter": "python",
   "pygments_lexer": "ipython3",
   "version": "3.10.10"
  }
 },
 "nbformat": 4,
 "nbformat_minor": 2
}
